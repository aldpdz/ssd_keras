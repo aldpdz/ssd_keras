{
 "cells": [
  {
   "cell_type": "code",
   "execution_count": 1,
   "metadata": {},
   "outputs": [],
   "source": [
    "from gluoncv import data, utils\n",
    "from imageio import imwrite, imsave\n",
    "import numpy as np\n",
    "import pandas as pd"
   ]
  },
  {
   "cell_type": "code",
   "execution_count": 3,
   "metadata": {},
   "outputs": [
    {
     "name": "stdout",
     "output_type": "stream",
     "text": [
      "Num of training images: 5011\n"
     ]
    }
   ],
   "source": [
    "# train_dataset = data.VOCDetection(splits=[(2007, 'train'), (2012, 'trainval')])\n",
    "train_dataset = data.VOCDetection(splits=[(2007, 'trainval')])\n",
    "\n",
    "# train_dataset = data.VOCDetection(splits=[(2007, 'train')])\n",
    "# val_dataset = data.VOCDetection(splits=[(2007, 'val')])\n",
    "# test_dataset = data.VOCDetection(splits=[(2007, 'test')])\n",
    "print('Num of training images:', len(train_dataset))\n",
    "# print('Num of validation images:', len(val_dataset))\n",
    "# print('Num of test images:', len(test_dataset))\n",
    "# print('Total:', len(train_dataset) + len(val_dataset) + len(test_dataset))"
   ]
  },
  {
   "cell_type": "code",
   "execution_count": 4,
   "metadata": {},
   "outputs": [],
   "source": [
    "pascalvoc_train = []\n",
    "id_person = 14\n",
    "# iterate over dataset\n",
    "for number, data in enumerate(train_dataset):\n",
    "    img, label = data\n",
    "    \n",
    "    # check if there is id person\n",
    "    id_class = label[:, 4]\n",
    "    if id_person in id_class:\n",
    "        # name image\n",
    "        img_name = 'train' + str(number) + '.jpg'\n",
    "        # save image\n",
    "#         imsave( '../../data-cic/PASCAL/' +  img_name, img.asnumpy())\n",
    "        imsave( '../../data-cic/PASCAL_train_val_07/' +  img_name, img.asnumpy())\n",
    "        # iterate over bounding boxes\n",
    "        for bb in label:\n",
    "            if bb[4] == id_person:\n",
    "                pascalvoc_train.append([img_name, int(bb[0]), int(bb[2]), int(bb[1]), int(bb[3]), 1])"
   ]
  },
  {
   "cell_type": "code",
   "execution_count": 5,
   "metadata": {},
   "outputs": [],
   "source": [
    "df_pascal_train = pd.DataFrame(pascalvoc_train, columns=['image', 'xmin', 'xmax', 'ymin', 'ymax', 'id'])\n",
    "df_pascal_train.to_csv('../../data-cic/preprocess_data/PASCAL_train_val_07.csv', index=False)"
   ]
  },
  {
   "cell_type": "code",
   "execution_count": 11,
   "metadata": {},
   "outputs": [
    {
     "data": {
      "text/plain": [
       "2095"
      ]
     },
     "execution_count": 11,
     "metadata": {},
     "output_type": "execute_result"
    }
   ],
   "source": [
    "len(df_pascal_train['image'].unique())"
   ]
  },
  {
   "cell_type": "code",
   "execution_count": 5,
   "metadata": {},
   "outputs": [],
   "source": [
    "pascalvoc_val = []\n",
    "id_person = 14\n",
    "# iterate over dataset\n",
    "for number, data in enumerate(val_dataset):\n",
    "    img, label = data\n",
    "    \n",
    "    # check if there is id person\n",
    "    id_class = label[:, 4]\n",
    "    if id_person in id_class:\n",
    "        # name image\n",
    "        img_name = 'val' + str(number) + '.jpg'\n",
    "        # save image\n",
    "        imsave( '../../data-cic/PASCAL/' +  img_name, img.asnumpy())\n",
    "        # iterate over bounding boxes\n",
    "        for bb in label:\n",
    "            if bb[4] == id_person:\n",
    "                pascalvoc_val.append([img_name, int(bb[0]), int(bb[2]), int(bb[1]), int(bb[3]), 1])"
   ]
  },
  {
   "cell_type": "code",
   "execution_count": 6,
   "metadata": {},
   "outputs": [],
   "source": [
    "df_pascal_val = pd.DataFrame(pascalvoc_val, columns=['image', 'xmin', 'xmax', 'ymin', 'ymax', 'id'])\n",
    "df_pascal_val.to_csv('../../data-cic/preprocess_data/PASCAL_val.csv', index=False)"
   ]
  },
  {
   "cell_type": "code",
   "execution_count": 7,
   "metadata": {},
   "outputs": [],
   "source": [
    "pascalvoc_test = []\n",
    "id_person = 14\n",
    "# iterate over dataset\n",
    "for number, data in enumerate(test_dataset):\n",
    "    img, label = data\n",
    "    \n",
    "    # check if there is id person\n",
    "    id_class = label[:, 4]\n",
    "    if id_person in id_class:\n",
    "        # name image\n",
    "        img_name = 'test' + str(number) + '.jpg'\n",
    "        # save image\n",
    "        imsave( '../../data-cic/PASCAL/' +  img_name, img.asnumpy())\n",
    "        # iterate over bounding boxes\n",
    "        for bb in label:\n",
    "            if bb[4] == id_person:\n",
    "                pascalvoc_test.append([img_name, int(bb[0]), int(bb[2]), int(bb[1]), int(bb[3]), 1])"
   ]
  },
  {
   "cell_type": "code",
   "execution_count": 8,
   "metadata": {},
   "outputs": [],
   "source": [
    "df_pascal_test = pd.DataFrame(pascalvoc_test, columns=['image', 'xmin', 'xmax', 'ymin', 'ymax', 'id'])\n",
    "df_pascal_test.to_csv('../../data-cic/preprocess_data/PASCAL_test.csv', index=False)"
   ]
  },
  {
   "cell_type": "code",
   "execution_count": 13,
   "metadata": {},
   "outputs": [
    {
     "name": "stdout",
     "output_type": "stream",
     "text": [
      "PASCAL train images: 5444\n",
      "PASCAL test images: 2097\n",
      "PASCAL val images: 1025\n"
     ]
    }
   ],
   "source": [
    "print('PASCAL train images:', len(df_pascal_train['image'].unique()))\n",
    "print('PASCAL test images:', len(df_pascal_test['image'].unique()))\n",
    "print('PASCAL val images:', len(df_pascal_val['image'].unique()))"
   ]
  },
  {
   "cell_type": "code",
   "execution_count": 12,
   "metadata": {},
   "outputs": [],
   "source": [
    "# Concatenate validation and test set\n",
    "df_pascal_train = pd.read_csv('../../data-cic/preprocess_data/PASCAL_train.csv')\n",
    "df_pascal_val = pd.read_csv('../../data-cic/preprocess_data/PASCAL_val.csv')\n",
    "df_pascal_train_val = pd.concat([df_pascal_train, df_pascal_val])"
   ]
  },
  {
   "cell_type": "code",
   "execution_count": 13,
   "metadata": {},
   "outputs": [
    {
     "data": {
      "text/plain": [
       "6469"
      ]
     },
     "execution_count": 13,
     "metadata": {},
     "output_type": "execute_result"
    }
   ],
   "source": [
    "len(df_pascal_train_val['image'].unique())"
   ]
  },
  {
   "cell_type": "code",
   "execution_count": 14,
   "metadata": {},
   "outputs": [],
   "source": [
    "df_pascal_train_val.to_csv('../../data-cic/preprocess_data/PASCAL_train_val.csv', index=False)"
   ]
  },
  {
   "cell_type": "code",
   "execution_count": 12,
   "metadata": {},
   "outputs": [],
   "source": [
    "import numpy as np\n",
    "import pandas as pd\n",
    "import seaborn as sns\n",
    "import matplotlib.pyplot as plt"
   ]
  },
  {
   "cell_type": "code",
   "execution_count": 13,
   "metadata": {},
   "outputs": [],
   "source": [
    "df_pascal_train = pd.read_csv('../../data-cic/preprocess_data/PASCAL_train.csv')\n",
    "df_pascal_val = pd.read_csv('../../data-cic/preprocess_data/PASCAL_val.csv')\n",
    "df_pascal_train_val = pd.read_csv('../../data-cic/preprocess_data/PASCAL_train_val.csv')\n",
    "df_pascal_test = pd.read_csv('../../data-cic/preprocess_data/PASCAL_test.csv')"
   ]
  },
  {
   "cell_type": "code",
   "execution_count": 16,
   "metadata": {},
   "outputs": [
    {
     "data": {
      "text/plain": [
       "6469"
      ]
     },
     "execution_count": 16,
     "metadata": {},
     "output_type": "execute_result"
    }
   ],
   "source": [
    "len(df_pascal_train_val['image'].unique())"
   ]
  },
  {
   "cell_type": "code",
   "execution_count": 29,
   "metadata": {},
   "outputs": [],
   "source": [
    "df_pascal_train_val['Ancho'] = df_pascal_train_val['xmax'] - df_pascal_train_val['xmin']\n",
    "df_pascal_train_val['Alto'] = df_pascal_train_val['ymax'] - df_pascal_train_val['ymin']\n",
    "df_pascal_train_val['Relación de aspecto'] = df_pascal_train_val['Ancho'] / df_pascal_train_val['Alto']\n",
    "\n",
    "df_pascal_test['Ancho'] = df_pascal_test['xmax'] - df_pascal_test['xmin']\n",
    "df_pascal_test['Alto'] = df_pascal_test['ymax'] - df_pascal_test['ymin']\n",
    "df_pascal_test['Relación de aspecto'] = df_pascal_test['Ancho'] / df_pascal_test['Alto']"
   ]
  }
 ],
 "metadata": {
  "kernelspec": {
   "display_name": "Python [conda env:test2]",
   "language": "python",
   "name": "conda-env-test2-py"
  },
  "language_info": {
   "codemirror_mode": {
    "name": "ipython",
    "version": 3
   },
   "file_extension": ".py",
   "mimetype": "text/x-python",
   "name": "python",
   "nbconvert_exporter": "python",
   "pygments_lexer": "ipython3",
   "version": "3.6.7"
  }
 },
 "nbformat": 4,
 "nbformat_minor": 2
}
